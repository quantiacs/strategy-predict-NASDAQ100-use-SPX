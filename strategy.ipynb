{
 "cells": [
  {
   "cell_type": "markdown",
   "source": [
    "# Predicting stocks using the SPX index\n",
    "\n",
    "Predicting stocks from the NASDAQ 100 index using the SPX index and technical analysis indicators"
   ],
   "metadata": {
    "collapsed": false
   }
  },
  {
   "cell_type": "code",
   "execution_count": null,
   "outputs": [],
   "source": [
    "from IPython.display import display\n",
    "import xarray as xr\n",
    "import qnt.data as qndata\n",
    "import qnt.output as qnout\n",
    "import qnt.ta as qnta\n",
    "import qnt.stats as qns\n",
    "\n",
    "\n",
    "def get_SPX(market_data):\n",
    "    index_name = 'SPX'\n",
    "    index_data = qndata.index.load_data(assets=[index_name], min_date='2005-01-01', forward_order=True)\n",
    "    spx_data = index_data.sel(asset=index_name)\n",
    "    spx_data = xr.align(spx_data, market_data.isel(field=0), join='right')[0]\n",
    "    return spx_data\n",
    "\n",
    "\n",
    "def get_strategy_1(data, spx, params):\n",
    "    def get_trix(prices, index, periods):\n",
    "        result = prices.copy(True)\n",
    "        t = qnta.trix(index, periods)\n",
    "        for a in prices.asset.values:\n",
    "            result.loc[{\"asset\": a}] = t\n",
    "        return result\n",
    "\n",
    "    trix = get_trix(data.sel(field='close'), spx, 40)\n",
    "\n",
    "    strategy_1 = trix.shift(time=params[0]) < trix.shift(time=params[1])\n",
    "    strategy_2 = trix.shift(time=params[2]) > trix.shift(time=params[3])\n",
    "\n",
    "    weights = strategy_1 * strategy_2 * data.sel(field=\"is_liquid\")\n",
    "    return weights.fillna(0)\n",
    "\n",
    "\n",
    "def get_strategy_2(data, spx, params):\n",
    "    def get_rsi(prices, index, periods):\n",
    "        result = prices.copy(True)\n",
    "        r = qnta.rsi(index, periods)\n",
    "        for a in prices.asset.values:\n",
    "            result.loc[{\"asset\": a}] = r\n",
    "        return result\n",
    "\n",
    "    rsi = get_rsi(data.sel(field='close'), spx, 40)\n",
    "\n",
    "    strategy_1 = rsi.shift(time=params[0]) < rsi.shift(time=params[1])\n",
    "    strategy_2 = rsi.shift(time=params[2]) > rsi.shift(time=params[3])\n",
    "\n",
    "    weights = strategy_1 * strategy_2 * data.sel(field=\"is_liquid\")\n",
    "    return weights.fillna(0)\n",
    "\n",
    "\n",
    "def get_strategy_3(data, spx, params):\n",
    "    def get_roc(prices, index, periods):\n",
    "        result = prices.copy(True)\n",
    "        r = qnta.roc(index, periods)\n",
    "        for a in prices.asset.values:\n",
    "            result.loc[{\"asset\": a}] = r\n",
    "        return result\n",
    "\n",
    "    roc = get_roc(data.sel(field='close'), spx, 15)\n",
    "\n",
    "    strategy_1 = roc.shift(time=params[0]) < roc.shift(time=params[1])\n",
    "    strategy_2 = roc.shift(time=params[2]) > roc.shift(time=params[3])\n",
    "\n",
    "    weights = strategy_1 * strategy_2 * data.sel(field=\"is_liquid\")\n",
    "    return weights.fillna(0)\n",
    "\n",
    "\n",
    "data = qndata.stocks.load_ndx_data(min_date=\"2005-01-01\")\n",
    "spx = get_SPX(data)\n",
    "\n",
    "weights_1_1 = get_strategy_1(data, spx, [142, 54, 132, 63])  # 1.0330127484868614 Sharpe Ratio\n",
    "weights_1_2 = get_strategy_1(data, spx, [166, 75, 46, 24])  # 0.9591131817092265 Sharpe Ratio\n",
    "weights_2 = get_strategy_2(data, spx, [159, 78, 77, 167])  # 0.8568070000760702 Sharpe Ratio\n",
    "weights_3 = get_strategy_3(data, spx, [10, 27, 29, 41])  # 0.835419 Sharpe Ratio\n",
    "\n",
    "weights_all = weights_1_1 + weights_1_2 + weights_2 + weights_3\n",
    "weights = qnout.clean(output=weights_all, data=data, kind=\"stocks_nasdaq100\")\n",
    "\n",
    "\n",
    "def print_statistic(data, weights_all):\n",
    "    import plotly.graph_objs as go\n",
    "    import qnt.stats as qnstats\n",
    "\n",
    "    stats = qnstats.calc_stat(data, weights_all)\n",
    "    display(stats.to_pandas().tail(5))\n",
    "\n",
    "    equity_curve = stats.loc[:, \"equity\"]\n",
    "    fig = go.Figure(data=[\n",
    "        go.Scatter(\n",
    "            x=equity_curve.time.to_pandas(),\n",
    "            y=equity_curve,\n",
    "            hovertext=\"Equity curve\",\n",
    "        )\n",
    "    ])\n",
    "    fig.update_yaxes(fixedrange=False)\n",
    "    fig.show()\n",
    "\n",
    "\n",
    "print_statistic(data, weights)"
   ],
   "metadata": {
    "collapsed": false,
    "pycharm": {
     "name": "#%%\n"
    }
   }
  },
  {
   "cell_type": "code",
   "execution_count": null,
   "outputs": [],
   "source": [
    "qnout.check(weights, data, \"stocks_nasdaq100\")\n",
    "qnout.write(weights)"
   ],
   "metadata": {
    "collapsed": false,
    "pycharm": {
     "name": "#%%\n"
    }
   }
  },
  {
   "cell_type": "markdown",
   "source": [
    "## Example of a strategy using technical analysis indicators\n",
    "\n",
    "The example of a strategy with a sharpe ratio of 0.9615 trading 215 financial instruments\n",
    "\n",
    "The strategy use sma, ema, adl (Advance–Decline line)"
   ],
   "metadata": {
    "collapsed": false,
    "pycharm": {
     "name": "#%% md\n"
    }
   }
  },
  {
   "cell_type": "markdown",
   "source": [
    "```python\n",
    "from IPython.display import display\n",
    "import xarray as xr\n",
    "import qnt.data as qndata\n",
    "import qnt.output as qnout\n",
    "import qnt.ta as qnta\n",
    "import qnt.stats as qns\n",
    "\n",
    "data = qndata.stocks.load_ndx_data(min_date=\"2005-01-01\")\n",
    "\n",
    "\n",
    "def get_strategy_1(data, params):\n",
    "    buy = 1\n",
    "    not_trade = 0\n",
    "    close = data.sel(field=\"close\")\n",
    "\n",
    "    strategy_1 = xr.where(qnta.sma(close, params[1]) > qnta.sma(close, params[0]), buy, not_trade)\n",
    "    strategy_2 = xr.where(qnta.ema(close, params[2]) > qnta.ema(close, params[3]), buy, not_trade)\n",
    "\n",
    "    weights = strategy_1 * strategy_2 * data.sel(field=\"is_liquid\")\n",
    "    weights = weights / 100.0\n",
    "    return weights.fillna(0)\n",
    "\n",
    "\n",
    "def get_strategy_2(data, params):\n",
    "    buy = 1\n",
    "    not_trade = 0\n",
    "    close = data.sel(field=\"close\") * data.sel(field=\"is_liquid\")\n",
    "\n",
    "    adl = qnta.ad_line(close) * 1.0\n",
    "    adl_dif = adl.shift(time=params[0]) - adl.shift(time=params[1])\n",
    "    positive_trend = adl_dif > 0\n",
    "    strategy_1 = xr.where(positive_trend, buy, not_trade)\n",
    "\n",
    "    weights = strategy_1 * data.sel(field=\"is_liquid\")\n",
    "    return weights.fillna(0)\n",
    "\n",
    "\n",
    "weights_1 = get_strategy_1(data, [25, 40, 12, 132])  # 0.6108887689714039 Sharpe Ratio\n",
    "weights_2 = get_strategy_2(data, [34, 183])  # 0.6012686822757577\n",
    "\n",
    "weights_all = 2 * weights_1 * weights_2 - weights_1\n",
    "weights = qnout.clean(output=weights_all, data=data, kind=\"stocks_nasdaq100\")  # 0.9615\n",
    "\n",
    "# qnout.check(weights, data, \"stocks_nasdaq100\")\n",
    "qnout.write(weights)\n",
    "```"
   ],
   "metadata": {
    "collapsed": false,
    "pycharm": {
     "name": "#%% md\n"
    }
   }
  }
 ],
 "metadata": {
  "kernelspec": {
   "display_name": "Python 3",
   "language": "python",
   "name": "python3"
  },
  "language_info": {
   "codemirror_mode": {
    "name": "ipython",
    "version": 2
   },
   "file_extension": ".py",
   "mimetype": "text/x-python",
   "name": "python",
   "nbconvert_exporter": "python",
   "pygments_lexer": "ipython2",
   "version": "2.7.6"
  }
 },
 "nbformat": 4,
 "nbformat_minor": 0
}